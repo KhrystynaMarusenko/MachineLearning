{
  "cells":[
    {
      "cell_type":"markdown",
      "source":[
        "В цій практичній роботі ми спробуємо реалізувати нейронну мережу з двох шарів (прихований і вихідний). Запропонований підхід стане заготовкою для реалізації наступних оптимізацій: MBGD, ADAM та регуляризації. \n",
        "\n",
        "Сьогодні ж вам пропонується додати до цього класу підтримку довільної кількості шарів та нейронів в них (наприклад, передавати їх параметром в конструктор, як це робиться в MLPClassifier за допомогою hidden_layer_sizes). Також потрібно передбачити можливість ранньої зупинки ітераційного процесу, якщо значення штрафної функції не покращуватиметься протягом певної кількості ітерацій. Наприклад, якщо протягом $k$ ітерацій штрафна функція за модулем не стане меншою, ніж на поточному кроці."
      ],
      "metadata":{
        
      }
    },
    {
      "cell_type":"code",
      "source":[
        "import numpy as np\n",
        "import pandas as pd\n",
        "from sklearn.model_selection import train_test_split\n",
        "from mpl_toolkits.mplot3d import Axes3D\n",
        "import matplotlib.pyplot as plt\n",
        "\n",
        "from matplotlib.colors import ListedColormap\n",
        "cm_bright = ListedColormap(['#FF0000', '#0000FF'])\n",
        "%matplotlib inline\n",
        "from sklearn.metrics import accuracy_score\n",
        "\n",
        "import sklearn.linear_model"
      ],
      "execution_count":1,
      "outputs":[
        
      ],
      "metadata":{
        
      }
    },
    {
      "cell_type":"code",
      "source":[
        "def plot_surface(cls, x_1, x_2, ax=None, threshold=0.5, contourf=False):\n",
        "    xx1, xx2 = np.meshgrid(np.linspace(x_1.min(), x_1.max(), 100), \n",
        "                           np.linspace(x_2.min(), x_2.max(), 100))\n",
        "\n",
        "    X_pred = np.c_[xx1.ravel(), xx2.ravel()]\n",
        "    pred = cls.predict_proba(X_pred)[:, 0]\n",
        "    Z = pred.reshape((100, 100))\n",
        "    if ax is None:\n",
        "        ax = plt.gca()\n",
        "    ax.contour(xx1, xx2, Z, levels=[threshold], colors='black')\n",
        "    ax.set_xlim((x_1.min(), x_1.max()))\n",
        "    ax.set_ylim((x_2.min(), x_2.max()))"
      ],
      "execution_count":2,
      "outputs":[
        
      ],
      "metadata":{
        
      }
    },
    {
      "cell_type":"code",
      "source":[
        "def plot_data(X, y):\n",
        "    ax = plt.gca()\n",
        "    ax.scatter(X[:,0], X[:,1], c=(y == 1), cmap=cm_bright)"
      ],
      "execution_count":3,
      "outputs":[
        
      ],
      "metadata":{
        
      }
    },
    {
      "cell_type":"code",
      "source":[
        "class NeuralNet:\n",
        "    \"\"\"\n",
        "    NN for binary classification\n",
        "    Attributes:\n",
        "    ...\n",
        "    \"\"\"\n",
        "    \n",
        "    def __init__(self, normalize = True, learning_rate = 0.01, num_iter = 30000,num_node=[20,1],accuracy=0.00001):\n",
        "        self.learning_rate = learning_rate\n",
        "        self.num_iter = num_iter\n",
        "        self.normalize = normalize\n",
        "        self.num_layer=len(num_node)\n",
        "        self.num_node=num_node\n",
        "        self.accuracy=accuracy\n",
        "        self.W=None\n",
        "        self.b=None\n",
        "        self.Z=None\n",
        "        self.A=None\n",
        "        self.dW=None\n",
        "        self.db=None\n",
        "        self.dZ=None\n",
        "        self.dA=None\n",
        "    \n",
        "    def __normalize(self, X, mean = None, std = None):\n",
        "        \"\"\"\n",
        "        Зверніть увагу, що нормалізація вхідних даних є дуже важливою для швидкодії нейронних мереж.\n",
        "        \"\"\"\n",
        "        n = X.shape[0]\n",
        "        m = mean\n",
        "        if m is None:\n",
        "            m = np.mean(X, axis=1).reshape((n, 1))\n",
        "        s = std\n",
        "        if s is None:\n",
        "            s = np.std(X, axis=1).reshape((n, 1))\n",
        "        X_new = (X - m) \/ s**2\n",
        "        return X_new, m, s\n",
        "\n",
        "    def __sigmoid(self, Z):\n",
        "        \"\"\"\n",
        "        В наступних практичних потрібно буде додати підтримку й інших активаційних функцій - це один з гіперпараметрів. \n",
        "        Їх можна вибирати для всіх шарів одночасно або мати різні активаційні функції на кожному з них.\n",
        "        \"\"\"\n",
        "        return 1 \/ (1 + np.exp(-Z))\n",
        "    \n",
        "    \n",
        "    def __softmax(self, Z):\n",
        "        return np.exp(Z) \/ np.sum(np.exp(Z)) \n",
        "    \n",
        "    def __initialize_parameters(self, n_x):\n",
        "        \n",
        "        \n",
        "        self.W=[]\n",
        "        self.W.append(list(np.random.randn(self.num_node[0], n_x)\/np.sqrt(n_x)))\n",
        "        self.b=[np.zeros((self.num_node[i], 1)) for i in range(self.num_layer)]\n",
        "        self.W=self.W+[list((np.random.randn(self.num_node[i],self.num_node[i-1])\/\n",
        "                             np.sqrt(self.num_node[i-1]))) for i in range(1,self.num_layer)]\n",
        "\n",
        "       \n",
        "    def __forward_propagation(self, X):\n",
        "\n",
        "        self.Z=[]\n",
        "        self.A=[]\n",
        "        self.Z.append(np.dot(self.W[0], X) + self.b[0])\n",
        "        self.A.append(self.__sigmoid(self.Z[0]))\n",
        "\n",
        "        for i in range(1,len(self.W)-1):\n",
        "            self.Z.append(np.dot(self.W[i], self.A[i-1]) + self.b[i])\n",
        "            self.A.append(self.__softmax(self.Z[i]))\n",
        "            \n",
        "        self.Z.append(np.dot(self.W[-1], self.A[-1]) + self.b[-1])\n",
        "        self.A.append(self.__sigmoid(self.Z[-1]))\n",
        "        \n",
        "        return self.A[-1]\n",
        "    \n",
        "    def compute_cost(self, A, Y):\n",
        "        J = -np.mean(Y.T * np.log(A.T+ 1e-8))\n",
        "        return J\n",
        "        \n",
        "    def __backward_propagation(self, X, Y):\n",
        "        m = X.shape[1]\n",
        "        n = X.shape[0]\n",
        "        W, b,Z, A=self.W,self.b,self.Z,self.A\n",
        "\n",
        "      \n",
        "        self.dW,self.db,self.dZ,self.dA=[],[],[],[]\n",
        "        self.dZ.append(A[-1] - Y)\n",
        "        self.dW.append(1. \/ m * np.dot(self.dZ[-1], A[-2].T))\n",
        "        self.db.append(1. \/ m * np.sum(self.dZ[-1], axis = 1, keepdims = True))\n",
        "        self.dA.append(np.dot(np.array(W[-1]).T, self.dZ[-1]))       \n",
        "\n",
        "\n",
        "            \n",
        "\n",
        "        for i in range(self.num_layer-1):\n",
        "            self.dZ.append(np.multiply(self.dA[i], np.multiply(A[self.num_layer-2-i], 1 - A[self.num_layer-2-i])))\n",
        "            if(self.num_layer-3-i>=0):\n",
        "                self.dW.append( 1. \/ m * np.dot(self.dZ[i+1], A[self.num_layer-3-i].T))\n",
        "            else:\n",
        "                self.dW.append( 1. \/ m * np.dot(self.dZ[i+1], X.T))\n",
        "            self.db.append( 1. \/ m * np.sum(self.dZ[i+1], axis = 1, keepdims = True))\n",
        "            self.dA.append(np.dot(np.array(W[self.num_layer-2-i]).T, self.dZ[i+1]))\n",
        "       \n",
        "        self.dW.reverse()\n",
        "        self.db.reverse()\n",
        "        self.dZ.reverse()\n",
        "        self.dA.reverse()\n",
        "\n",
        "    \n",
        "    def __update_parameters(self):\n",
        "        \n",
        "        for i in range(self.num_layer):\n",
        "            self.W[i] = self.W[i] - self.learning_rate * self.dW[i]\n",
        "            self.b[i] = self.b[i] - self.learning_rate * self.db[i]\n",
        "\n",
        "        \n",
        "    def fit(self, X_vert, Y_vert, print_cost = True):\n",
        "        \n",
        "        X, Y = X_vert.T, Y_vert.T\n",
        "        \n",
        "        if self.normalize:\n",
        "            X, self.__mean, self.__std = self.__normalize(X)\n",
        "        \n",
        "        costs = []\n",
        "        check = []\n",
        "        m = X.shape[1]\n",
        "        n_x = X.shape[0]\n",
        "        \n",
        "        self.__initialize_parameters(n_x)\n",
        " \n",
        "        for i in range(self.num_iter):\n",
        "            A = self.__forward_propagation(X)\n",
        "\n",
        "            cost = self.compute_cost(A, Y)\n",
        "            self.__backward_propagation(X, Y)\n",
        "\n",
        "            self.__update_parameters()\n",
        "        \n",
        "            check.append(cost)\n",
        "            if print_cost and i % 1000 == 0:\n",
        "                print(\"{}-th iteration: {}\".format(i, cost))\n",
        "\n",
        "            if i % 10 == 0:\n",
        "                costs.append(cost)\n",
        "                \n",
        "            if(len(check)>2 and abs(check[i]-check[i-1])<self.accuracy):\n",
        "                break\n",
        "\n",
        "        if print_cost:\n",
        "            plt.plot(costs)\n",
        "            plt.ylabel(\"Cost\")\n",
        "            plt.xlabel(\"Iteration, *1000\")\n",
        "            plt.show()\n",
        "    \n",
        "    def predict_proba(self, X_vert):\n",
        "        X = X_vert.T\n",
        "        if self.normalize:\n",
        "            X, _, _ = self.__normalize(X, self.__mean, self.__std)\n",
        "        \n",
        "        probs = self.__forward_propagation(X)[0]\n",
        "        \n",
        "        return np.column_stack((probs.T, 1 - probs.T))\n",
        "    \n",
        "    def predict(self, X_vert):\n",
        "        positive_probs = self.predict_proba(X_vert)[:, 0]\n",
        "        return (positive_probs >= 0.5).astype(int)   "
      ],
      "execution_count":4,
      "outputs":[
        
      ],
      "metadata":{
        
      }
    },
    {
      "cell_type":"markdown",
      "source":[
        "Спочатку спробуйте цей клас на одній задачі, а потім на іншій."
      ],
      "metadata":{
        
      }
    },
    {
      "cell_type":"code",
      "source":[
        "#data_columns = [\"exam1\", \"exam2\"]\n",
        "#target_column = \"submitted\"\n",
        "#df = pd.read_csv(\"sats.csv\")\n",
        "#X, Y = df[data_columns].values, df[target_column].reshape((df.shape[0], 1))\n",
        "#print('Training set: X={}, y={}'.format(X.shape, Y.shape))"
      ],
      "execution_count":0,
      "outputs":[
        
      ],
      "metadata":{
        
      }
    },
    {
      "cell_type":"code",
      "source":[
        "data_columns = [\"test1\", \"test2\"]\n",
        "target_column = \"passed\"\n",
        "df = pd.read_csv(\"tests.csv\")\n",
        "X, Y = df[data_columns].values, df[target_column]\n",
        "print('Training set: X={}, y={}'.format(X.shape, Y.shape))"
      ],
      "execution_count":5,
      "outputs":[
        {
          "name":"stdout",
          "text":[
            "Training set: X=(118, 2), y=(118,)\n"
          ],
          "output_type":"stream"
        }
      ],
      "metadata":{
        
      }
    },
    {
      "cell_type":"code",
      "source":[
        "plot_data(X, Y)"
      ],
      "execution_count":6,
      "outputs":[
        {
          "data":{
            "image\/png":"[encoded data removed]"
          },
          "metadata":{
            "image\/png":{
              "width":0,
              "height":0
            }
          },
          "output_type":"display_data"
        }
      ],
      "metadata":{
        
      }
    },
    {
      "cell_type":"code",
      "source":[
        "cls = NeuralNet(normalize = True, \n",
        "                learning_rate = 0.5, \n",
        "                num_iter = 3000,\n",
        "                num_node=[8,15,],\n",
        "                accuracy=1e-10)"
      ],
      "execution_count":7,
      "outputs":[
        
      ],
      "metadata":{
        
      }
    },
    {
      "cell_type":"code",
      "source":[
        "cls.fit(X, Y.values.reshape((df.shape[0], 1)))"
      ],
      "execution_count":8,
      "outputs":[
        {
          "name":"stdout",
          "text":[
            "0-th iteration: 0.34142988407550207\n",
            "1000-th iteration: 0.15703244248217896\n",
            "2000-th iteration: 0.13142121887646108\n"
          ],
          "output_type":"stream"
        },
        {
          "data":{
            "image\/png":"[encoded data removed]"
          },
          "metadata":{
            "image\/png":{
              "width":0,
              "height":0
            }
          },
          "output_type":"display_data"
        }
      ],
      "metadata":{
        
      }
    },
    {
      "cell_type":"code",
      "source":[
        "Y_prob = cls.predict_proba(X)\n",
        "Y_prob"
      ],
      "execution_count":9,
      "outputs":[
        {
          "data":{
            "text\/plain":[
              "array([[5.10813182e-01, 4.89186818e-01],\n",
              "       [8.60532556e-01, 1.39467444e-01],\n",
              "       [8.62654102e-02, 9.13734590e-01],\n",
              "       [8.80049732e-02, 9.11995027e-01],\n",
              "       [8.25220708e-03, 9.91747793e-01],\n",
              "       [9.05660288e-01, 9.43397121e-02],\n",
              "       [2.58619210e-02, 9.74138079e-01],\n",
              "       [2.50880323e-01, 7.49119677e-01],\n",
              "       [6.92449727e-01, 3.07550273e-01],\n",
              "       [9.16505892e-01, 8.34941079e-02],\n",
              "       [9.99822388e-01, 1.77611744e-04],\n",
              "       [2.60064981e-01, 7.39935019e-01],\n",
              "       [4.08910658e-01, 5.91089342e-01],\n",
              "       [4.48314467e-02, 9.55168553e-01],\n",
              "       [9.83821336e-01, 1.61786639e-02],\n",
              "       [4.76404557e-01, 5.23595443e-01],\n",
              "       [6.89185931e-01, 3.10814069e-01],\n",
              "       [9.67741368e-01, 3.22586317e-02],\n",
              "       [9.91235114e-01, 8.76488588e-03],\n",
              "       [8.28947227e-02, 9.17105277e-01],\n",
              "       [9.99589438e-01, 4.10562498e-04],\n",
              "       [9.02711164e-01, 9.72888361e-02],\n",
              "       [8.93983422e-01, 1.06016578e-01],\n",
              "       [3.72302496e-02, 9.62769750e-01],\n",
              "       [4.76336772e-01, 5.23663228e-01],\n",
              "       [9.62963215e-01, 3.70367845e-02],\n",
              "       [1.88436137e-01, 8.11563863e-01],\n",
              "       [7.06001741e-02, 9.29399826e-01],\n",
              "       [3.96213233e-01, 6.03786767e-01],\n",
              "       [9.20666678e-01, 7.93333221e-02],\n",
              "       [9.96886008e-01, 3.11399209e-03],\n",
              "       [4.95408552e-01, 5.04591448e-01],\n",
              "       [5.25317195e-01, 4.74682805e-01],\n",
              "       [9.13023535e-01, 8.69764645e-02],\n",
              "       [2.31273931e-03, 9.97687261e-01],\n",
              "       [3.34699291e-01, 6.65300709e-01],\n",
              "       [3.82027757e-01, 6.17972243e-01],\n",
              "       [7.93431230e-03, 9.92065688e-01],\n",
              "       [9.99806652e-01, 1.93348087e-04],\n",
              "       [2.50426905e-02, 9.74957309e-01],\n",
              "       [4.01620652e-02, 9.59837935e-01],\n",
              "       [4.14645512e-01, 5.85354488e-01],\n",
              "       [1.05947119e-03, 9.98940529e-01],\n",
              "       [2.24945130e-01, 7.75054870e-01],\n",
              "       [2.30749105e-01, 7.69250895e-01],\n",
              "       [8.90119880e-01, 1.09880120e-01],\n",
              "       [5.81344831e-03, 9.94186552e-01],\n",
              "       [8.71584968e-03, 9.91284150e-01],\n",
              "       [7.11824840e-02, 9.28817516e-01],\n",
              "       [3.65420758e-02, 9.63457924e-01],\n",
              "       [8.31523068e-01, 1.68476932e-01],\n",
              "       [1.66078686e-02, 9.83392131e-01],\n",
              "       [9.17014894e-01, 8.29851062e-02],\n",
              "       [3.06715357e-02, 9.69328464e-01],\n",
              "       [5.18962276e-01, 4.81037724e-01],\n",
              "       [1.34314938e-02, 9.86568506e-01],\n",
              "       [6.20141620e-03, 9.93798584e-01],\n",
              "       [8.98115786e-01, 1.01884214e-01],\n",
              "       [4.78296841e-01, 5.21703159e-01],\n",
              "       [6.19772763e-01, 3.80227237e-01],\n",
              "       [5.10452840e-01, 4.89547160e-01],\n",
              "       [9.97824328e-01, 2.17567185e-03],\n",
              "       [3.39613333e-02, 9.66038667e-01],\n",
              "       [4.75822075e-01, 5.24177925e-01],\n",
              "       [9.99777565e-01, 2.22435337e-04],\n",
              "       [9.60665112e-01, 3.93348883e-02],\n",
              "       [3.16777036e-03, 9.96832230e-01],\n",
              "       [5.46123569e-02, 9.45387643e-01],\n",
              "       [5.00134557e-01, 4.99865443e-01],\n",
              "       [9.72334947e-03, 9.90276651e-01],\n",
              "       [9.98379044e-01, 1.62095604e-03],\n",
              "       [8.72704829e-01, 1.27295171e-01],\n",
              "       [9.92845721e-01, 7.15427916e-03],\n",
              "       [9.61872119e-01, 3.81278809e-02],\n",
              "       [8.07477071e-01, 1.92522929e-01],\n",
              "       [9.99567541e-01, 4.32458634e-04],\n",
              "       [4.60619633e-01, 5.39380367e-01],\n",
              "       [9.33561021e-01, 6.64389792e-02],\n",
              "       [4.51662270e-01, 5.48337730e-01],\n",
              "       [8.40191947e-01, 1.59808053e-01],\n",
              "       [6.65080998e-02, 9.33491900e-01],\n",
              "       [9.99625475e-01, 3.74524607e-04],\n",
              "       [9.97568810e-01, 2.43118981e-03],\n",
              "       [3.25199970e-01, 6.74800030e-01],\n",
              "       [1.57387383e-01, 8.42612617e-01],\n",
              "       [7.32098300e-01, 2.67901700e-01],\n",
              "       [2.14088727e-01, 7.85911273e-01],\n",
              "       [1.02095460e-02, 9.89790454e-01],\n",
              "       [6.52435198e-01, 3.47564802e-01],\n",
              "       [5.97021791e-03, 9.94029782e-01],\n",
              "       [1.20206266e-01, 8.79793734e-01],\n",
              "       [9.63589981e-01, 3.64100189e-02],\n",
              "       [9.99437734e-01, 5.62265969e-04],\n",
              "       [7.73514909e-03, 9.92264851e-01],\n",
              "       [4.28641980e-01, 5.71358020e-01],\n",
              "       [1.60214809e-02, 9.83978519e-01],\n",
              "       [9.95155064e-01, 4.84493592e-03],\n",
              "       [7.91280725e-02, 9.20871927e-01],\n",
              "       [2.88185920e-02, 9.71181408e-01],\n",
              "       [7.73073872e-01, 2.26926128e-01],\n",
              "       [9.96079961e-01, 3.92003874e-03],\n",
              "       [9.99655554e-01, 3.44445729e-04],\n",
              "       [7.65685959e-01, 2.34314041e-01],\n",
              "       [5.60952264e-02, 9.43904774e-01],\n",
              "       [6.89465602e-03, 9.93105344e-01],\n",
              "       [9.95851685e-01, 4.14831545e-03],\n",
              "       [2.05653037e-02, 9.79434696e-01],\n",
              "       [5.95120071e-01, 4.04879929e-01],\n",
              "       [8.08177215e-01, 1.91822785e-01],\n",
              "       [9.85139726e-01, 1.48602740e-02],\n",
              "       [1.54390295e-01, 8.45609705e-01],\n",
              "       [8.75139624e-01, 1.24860376e-01],\n",
              "       [1.47182349e-02, 9.85281765e-01],\n",
              "       [9.88354993e-01, 1.16450070e-02],\n",
              "       [4.00923475e-02, 9.59907653e-01],\n",
              "       [9.42728033e-01, 5.72719673e-02],\n",
              "       [1.67341509e-01, 8.32658491e-01],\n",
              "       [9.49692894e-02, 9.05030711e-01]])"
            ]
          },
          "metadata":{
            
          },
          "output_type":"display_data"
        }
      ],
      "metadata":{
        
      }
    },
    {
      "cell_type":"code",
      "source":[
        "Y_hat = cls.predict(X)\n",
        "Y_hat"
      ],
      "execution_count":10,
      "outputs":[
        {
          "data":{
            "text\/plain":[
              "array([1, 1, 0, 0, 0, 1, 0, 0, 1, 1, 1, 0, 0, 0, 1, 0, 1, 1, 1, 0, 1, 1,\n",
              "       1, 0, 0, 1, 0, 0, 0, 1, 1, 0, 1, 1, 0, 0, 0, 0, 1, 0, 0, 0, 0, 0,\n",
              "       0, 1, 0, 0, 0, 0, 1, 0, 1, 0, 1, 0, 0, 1, 0, 1, 1, 1, 0, 0, 1, 1,\n",
              "       0, 0, 1, 0, 1, 1, 1, 1, 1, 1, 0, 1, 0, 1, 0, 1, 1, 0, 0, 1, 0, 0,\n",
              "       1, 0, 0, 1, 1, 0, 0, 0, 1, 0, 0, 1, 1, 1, 1, 0, 0, 1, 0, 1, 1, 1,\n",
              "       0, 1, 0, 1, 0, 1, 0, 0])"
            ]
          },
          "metadata":{
            
          },
          "output_type":"display_data"
        }
      ],
      "metadata":{
        
      }
    },
    {
      "cell_type":"code",
      "source":[
        "accuracy_score(Y, Y_hat)"
      ],
      "execution_count":11,
      "outputs":[
        {
          "data":{
            "text\/plain":[
              "0.864406779661017"
            ]
          },
          "metadata":{
            
          },
          "output_type":"display_data"
        }
      ],
      "metadata":{
        
      }
    },
    {
      "cell_type":"code",
      "source":[
        "plot_data(X, Y)\n",
        "plot_surface(cls, X[:, 0], X[:, 1])"
      ],
      "execution_count":12,
      "outputs":[
        {
          "data":{
            "image\/png":"[encoded data removed]"
          },
          "metadata":{
            "image\/png":{
              "width":0,
              "height":0
            }
          },
          "output_type":"display_data"
        }
      ],
      "metadata":{
        
      }
    },
    {
      "cell_type":"markdown",
      "source":[
        "Зверніть увагу на границю прийняття рішення. Модель старається побудувати складну криву, що може свідчити про її перетренування. Порівняйте отримані результати з класом з sklearn. Спробуйте додати нові шари для нашого класу та порівняти результати тоді. Поекспериментуйте з гіперпараметрами для обох класів."
      ],
      "metadata":{
        
      }
    },
    {
      "cell_type":"code",
      "source":[
        "from sklearn.neural_network import MLPClassifier\n",
        "clf = MLPClassifier(hidden_layer_sizes = (20,), max_iter = 10000, activation = 'relu', solver = 'sgd', learning_rate_init = 0.01, learning_rate = 'constant')"
      ],
      "execution_count":14,
      "outputs":[
        
      ],
      "metadata":{
        
      }
    },
    {
      "cell_type":"code",
      "source":[
        "clf.fit(X, Y)"
      ],
      "execution_count":15,
      "outputs":[
        {
          "data":{
            "text\/plain":[
              "MLPClassifier(hidden_layer_sizes=(20,), learning_rate_init=0.01, max_iter=10000,\n",
              "              solver='sgd')"
            ]
          },
          "metadata":{
            
          },
          "output_type":"display_data"
        }
      ],
      "metadata":{
        
      }
    },
    {
      "cell_type":"code",
      "source":[
        "plot_data(X, Y)\n",
        "plot_surface(clf, X[:, 0], X[:, 1])"
      ],
      "execution_count":16,
      "outputs":[
        {
          "data":{
            "image\/png":"[encoded data removed]"
          },
          "metadata":{
            "image\/png":{
              "width":0,
              "height":0
            }
          },
          "output_type":"display_data"
        }
      ],
      "metadata":{
        
      }
    },
    {
      "cell_type":"code",
      "source":[
        "accuracy_score(Y, clf.predict(X))"
      ],
      "execution_count":17,
      "outputs":[
        {
          "data":{
            "text\/plain":[
              "0.847457627118644"
            ]
          },
          "metadata":{
            
          },
          "output_type":"display_data"
        }
      ],
      "metadata":{
        
      }
    },
    {
      "cell_type":"code",
      "source":[
        
      ],
      "execution_count":0,
      "outputs":[
        
      ],
      "metadata":{
        
      }
    },
    {
      "cell_type":"code",
      "source":[
        
      ],
      "execution_count":0,
      "outputs":[
        
      ],
      "metadata":{
        
      }
    }
  ],
  "metadata":{
    
  },
  "nbformat":4,
  "nbformat_minor":0
}